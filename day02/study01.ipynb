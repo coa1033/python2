{
 "cells": [
  {
   "cell_type": "code",
   "execution_count": 2,
   "metadata": {},
   "outputs": [
    {
     "name": "stdout",
     "output_type": "stream",
     "text": [
      "31일\n",
      "28일\n",
      "31일\n",
      "30일\n",
      "31일\n",
      "30일\n",
      "31일\n",
      "31일\n",
      "30일\n",
      "31일\n",
      "30일\n",
      "31일\n"
     ]
    }
   ],
   "source": [
    "# 문제 : 딕셔너리에 각 달의 마지막 날들을 한번에 담고, keys()로 key, value 순회출력\n",
    "\n",
    "\n",
    "dic = {}\n",
    "dic_list = [31,28,31,30,31,30,31,31,30,31,30,31]\n",
    "\n",
    "for i ,j in enumerate(dic_list):\n",
    "    month = str(i+1)+\"월\"\n",
    "    dic[month] = str(j) +\"일\"\n",
    "\n",
    "for month in dic.keys():\n",
    "    endday = dic[month]\n",
    "    print(endday)"
   ]
  },
  {
   "cell_type": "code",
   "execution_count": 3,
   "metadata": {},
   "outputs": [
    {
     "name": "stdout",
     "output_type": "stream",
     "text": [
      "31일\n",
      "28일\n",
      "31일\n",
      "30일\n",
      "31일\n",
      "30일\n",
      "31일\n",
      "31일\n",
      "30일\n",
      "31일\n",
      "30일\n",
      "31일\n"
     ]
    }
   ],
   "source": [
    "# 문제 : 딕셔너리에 각 달의 마지막 날들을 한번에 담고, values()로 value 순회출력\n",
    "\n",
    "for endday in dic.values():\n",
    "    print(endday)"
   ]
  },
  {
   "cell_type": "code",
   "execution_count": 4,
   "metadata": {},
   "outputs": [
    {
     "name": "stdout",
     "output_type": "stream",
     "text": [
      "1월는31일까지 입니다.\n",
      "2월는28일까지 입니다.\n",
      "3월는31일까지 입니다.\n",
      "4월는30일까지 입니다.\n",
      "5월는31일까지 입니다.\n",
      "6월는30일까지 입니다.\n",
      "7월는31일까지 입니다.\n",
      "8월는31일까지 입니다.\n",
      "9월는30일까지 입니다.\n",
      "10월는31일까지 입니다.\n",
      "11월는30일까지 입니다.\n",
      "12월는31일까지 입니다.\n"
     ]
    }
   ],
   "source": [
    "# 문제 : 딕셔너리에 각 달의 마지막 날들을 한번에 담고, items()로 key, value 순회출력\n",
    "\n",
    "for month,endday in dic.items():\n",
    "    print(month + \"는\" + endday +\"까지 입니다.\")"
   ]
  },
  {
   "cell_type": "code",
   "execution_count": null,
   "metadata": {},
   "outputs": [],
   "source": []
  }
 ],
 "metadata": {
  "interpreter": {
   "hash": "4e0b39fdc4f2df2992ef135d097972ec225e019845a073717c5b1bc8df292c8a"
  },
  "kernelspec": {
   "display_name": "Python 3.10.2 64-bit",
   "language": "python",
   "name": "python3"
  },
  "language_info": {
   "codemirror_mode": {
    "name": "ipython",
    "version": 3
   },
   "file_extension": ".py",
   "mimetype": "text/x-python",
   "name": "python",
   "nbconvert_exporter": "python",
   "pygments_lexer": "ipython3",
   "version": "3.10.2"
  },
  "orig_nbformat": 4
 },
 "nbformat": 4,
 "nbformat_minor": 2
}
