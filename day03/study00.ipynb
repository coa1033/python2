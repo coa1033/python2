{
 "cells": [
  {
   "cell_type": "code",
   "execution_count": 19,
   "metadata": {},
   "outputs": [
    {
     "name": "stdout",
     "output_type": "stream",
     "text": [
      "안녕하세요 27살 홍길동입니다.\n",
      "안녕하세요 25살 홍길순입니다.\n"
     ]
    }
   ],
   "source": [
    "# 다음 코드가 동작하도록 class를 완성해주세요\n",
    "class Person() :\n",
    "    name = \"\"\n",
    "    age = 0\n",
    "    def introduce(self):\n",
    "        print(\"안녕하세요 {}살 {}입니다.\".format(self.age,self.name))\n",
    "p1 = Person()\n",
    "p1.name = \"홍길동\"\n",
    "p1.age = 27\n",
    "p2 = Person()\n",
    "p2.name = \"홍길순\"\n",
    "p2.age = 25\n",
    "p1.introduce() # 안녕하세요 27살 홍길동입니다.\n",
    "p2.introduce() # 안녕하세요 25살 홍길순입니다.\n"
   ]
  },
  {
   "cell_type": "code",
   "execution_count": 22,
   "metadata": {},
   "outputs": [
    {
     "name": "stdout",
     "output_type": "stream",
     "text": [
      "하얀색 소나타 이/가 100km로 달립니다.\n",
      "검정색 모닝 이/가 70km로 달립니다.\n"
     ]
    }
   ],
   "source": [
    "class Car() :\n",
    "    def __init__(self,name, calor,velo):\n",
    "        self.name = name\n",
    "        self.calor = calor\n",
    "        self.velo = velo\n",
    "    def drive(self):\n",
    "        print(\"{} {} 이/가 {}km로 달립니다.\".format(self.calor,self.name,self.velo))\n",
    "c1 = Car(\"소나타\",\"하얀색\",100)\n",
    "c2 = Car(\"모닝\", \"검정색\", 70)\n",
    "\n",
    "c1.drive() # 하얀색 소나타이/가 100km로 달립니다.\n",
    "c2.drive() # 검정색 모닝이/가 70km로 달립니다.\n"
   ]
  },
  {
   "cell_type": "code",
   "execution_count": 24,
   "metadata": {},
   "outputs": [
    {
     "name": "stdout",
     "output_type": "stream",
     "text": [
      "4살 러시안블루 고양이 아리가 야옹하고 웁니다.\n",
      "6살 샴 고양이 망고가 야옹하고 웁니다.\n"
     ]
    }
   ],
   "source": [
    "class Cat() :\n",
    "    def __init__(self,name, j,age):\n",
    "        self.name = name\n",
    "        self.j = j\n",
    "        self.age = age\n",
    "    def meow(self):\n",
    "        print(\"{}살 {} 고양이 {}가 야옹하고 웁니다.\".format(self.age,self.j,self.name))\n",
    "\n",
    "cat1 = Cat(\"아리\", \"러시안블루\", 4)\n",
    "cat2 = Cat(\"망고\", \"샴\", 6)\n",
    "\n",
    "cat1.meow() # 4살 러시안블루 고양이 아리가 야옹하고 웁니다.\n",
    "cat2.meow() # 6살 샴 고양이 망고가 야옹하고 웁니다.\n",
    "\n"
   ]
  },
  {
   "cell_type": "code",
   "execution_count": 25,
   "metadata": {},
   "outputs": [
    {
     "name": "stdout",
     "output_type": "stream",
     "text": [
      "이름 : 이순신, 공격력 :20, 방어력 : 10\n",
      "이름 : 강감찬, 공격력 :15, 방어력 : 15\n",
      "이순신이 20의 데미지를 입힌다.\n",
      "강감찬이 15의 데미지를 입힌다.\n",
      "이순신이 10 데미지를 방어합니다\n",
      "강감찬이 15 데미지를 방어합니다\n"
     ]
    }
   ],
   "source": [
    "class Warrior():\n",
    "    def __init__(self,name,att,df):\n",
    "        self.name = name\n",
    "        self.att = att\n",
    "        self.df = df\n",
    "    def status(self):\n",
    "        print(\"이름 : {}, 공격력 :{}, 방어력 : {}\".format(self.name,self.att,self.df))\n",
    "    def attack(self):\n",
    "        print(\"{}이 {}의 데미지를 입힌다.\".format(self.name,self.att))\n",
    "    def defense(self):\n",
    "        print(\"{}이 {} 데미지를 방어합니다\".format(self.name,self.df))\n",
    "    \n",
    "w1 = Warrior(\"이순신\", 20, 10)\n",
    "w2 = Warrior(\"강감찬\", 15, 15)\n",
    "\n",
    "w1.status() # 이름 : 이순신, 공격력 : 20, 방어력 : 10 \n",
    "w2.status() # 이름 : 강감찬, 공격력 : 15, 방어력 : 15 \n",
    "\n",
    "w1.attack() # 이순신이 20의 데미지를 입힙민다.\n",
    "w2.attack() # 강감찬이 15의 데미지를 입힙민다. \n",
    "\n",
    "w1.defense() # 이순신이 10 데미지를 방어합니다.\n",
    "w2.defense() # 강감찬이 15 데미지를 방어합니다.\n"
   ]
  }
 ],
 "metadata": {
  "interpreter": {
   "hash": "4e0b39fdc4f2df2992ef135d097972ec225e019845a073717c5b1bc8df292c8a"
  },
  "kernelspec": {
   "display_name": "Python 3.10.2 64-bit",
   "language": "python",
   "name": "python3"
  },
  "language_info": {
   "codemirror_mode": {
    "name": "ipython",
    "version": 3
   },
   "file_extension": ".py",
   "mimetype": "text/x-python",
   "name": "python",
   "nbconvert_exporter": "python",
   "pygments_lexer": "ipython3",
   "version": "3.10.2"
  },
  "orig_nbformat": 4
 },
 "nbformat": 4,
 "nbformat_minor": 2
}
