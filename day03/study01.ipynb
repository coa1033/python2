{
 "cells": [
  {
   "cell_type": "code",
   "execution_count": 3,
   "metadata": {},
   "outputs": [
    {
     "data": {
      "text/plain": [
       "'모듈에 있는 첫번째 함수 입니다'"
      ]
     },
     "execution_count": 3,
     "metadata": {},
     "output_type": "execute_result"
    }
   ],
   "source": [
    "import ex01\n",
    "\n",
    "ex01.func1()\n"
   ]
  },
  {
   "cell_type": "code",
   "execution_count": 13,
   "metadata": {},
   "outputs": [
    {
     "name": "stdout",
     "output_type": "stream",
     "text": [
      "['c:\\\\Users\\\\Administrator\\\\Desktop\\\\py2\\\\day03', 'C:\\\\Users\\\\Administrator\\\\AppData\\\\Local\\\\Programs\\\\Python\\\\Python310\\\\python310.zip', 'C:\\\\Users\\\\Administrator\\\\AppData\\\\Local\\\\Programs\\\\Python\\\\Python310\\\\DLLs', 'C:\\\\Users\\\\Administrator\\\\AppData\\\\Local\\\\Programs\\\\Python\\\\Python310\\\\lib', 'C:\\\\Users\\\\Administrator\\\\AppData\\\\Local\\\\Programs\\\\Python\\\\Python310', '', 'C:\\\\Users\\\\Administrator\\\\AppData\\\\Roaming\\\\Python\\\\Python310\\\\site-packages', 'C:\\\\Users\\\\Administrator\\\\AppData\\\\Roaming\\\\Python\\\\Python310\\\\site-packages\\\\win32', 'C:\\\\Users\\\\Administrator\\\\AppData\\\\Roaming\\\\Python\\\\Python310\\\\site-packages\\\\win32\\\\lib', 'C:\\\\Users\\\\Administrator\\\\AppData\\\\Roaming\\\\Python\\\\Python310\\\\site-packages\\\\Pythonwin', 'C:\\\\Users\\\\Administrator\\\\AppData\\\\Local\\\\Programs\\\\Python\\\\Python310\\\\lib\\\\site-packages', 'py2', 'py2', 'C:\\\\py2', 'C:\\\\py2']\n"
     ]
    }
   ],
   "source": [
    "import sys \n",
    "print(sys.path)\n",
    "sys.path.append('C:\\\\Users\\Administrator\\Desktop\\py2')"
   ]
  },
  {
   "cell_type": "code",
   "execution_count": 34,
   "metadata": {},
   "outputs": [
    {
     "name": "stdout",
     "output_type": "stream",
     "text": [
      "모듈의 첫번째 함수 입니다\n",
      "모듈의 두번째 함수 입니다\n",
      "모듈의 세번째 함수 입니다\n"
     ]
    }
   ],
   "source": [
    "import ex02\n",
    "print(ex02.func1())\n",
    "print(ex02.func2())\n",
    "print(ex02.func3())\n"
   ]
  },
  {
   "cell_type": "code",
   "execution_count": 59,
   "metadata": {},
   "outputs": [
    {
     "name": "stdout",
     "output_type": "stream",
     "text": [
      "모듈의 두번째 함수 입니다\n",
      "모듈의 세번째 함수 입니다\n"
     ]
    }
   ],
   "source": [
    "from ex03 import func2,func3\n",
    "print(func2())\n",
    "print(func3())"
   ]
  },
  {
   "cell_type": "code",
   "execution_count": 73,
   "metadata": {},
   "outputs": [
    {
     "name": "stdout",
     "output_type": "stream",
     "text": [
      "C:\\Users\\Administrator\\Desktop\\py2\n",
      "C:\\Users\\Administrator\\Desktop\\py2\n",
      ".git\n",
      "day01\n",
      "day02\n",
      "day03\n",
      "ex02.py\n",
      "ex03.py\n",
      "pytest\n",
      "README.md\n",
      "__pycache__\n"
     ]
    }
   ],
   "source": [
    "import os \n",
    "# 현재 디렉토리\n",
    "print(os.getcwd())\n",
    "# 경로 제일 마지막에 있는 폴더만 생성\n",
    "# os.mkdir(\"C:\\\\Users\\Administrator\\Desktop\\py2\\pytest\")\n",
    "# 하위폴더까지 생성\n",
    "# os.makedirs(\"C:\\\\Users\\\\Administrator\\\\Desktop\\\\py2\\\\pytest\\\\test1\\\\test2\\\\test3\")\n",
    "os.chdir(\"C:\\\\Users\\\\Administrator\\\\Desktop\\\\py2\")\n",
    "print(os.getcwd())\n",
    "# 입력한 경로의 파일과 폴더목록을 리스트로 반화하여주는 함수\n",
    "os.listdir(\"C:\\\\Users\\\\Administrator\\\\Desktop\\\\py2\")\n",
    "for i in os.listdir(\"C:\\\\Users\\\\Administrator\\\\Desktop\\\\py2\"):\n",
    "    print(i)"
   ]
  },
  {
   "cell_type": "code",
   "execution_count": 77,
   "metadata": {},
   "outputs": [
    {
     "name": "stdout",
     "output_type": "stream",
     "text": [
      "True\n",
      "False\n"
     ]
    }
   ],
   "source": [
    "# 특정폴더가 있는지 확인하는 함수\n",
    "print(os.path.exists(\"C:\\\\Users\\\\Administrator\\\\Desktop\\\\py2\\\\pytest\\\\test1\\\\test2\\\\test3\"))\n",
    "print(os.path.exists(\"C:\\\\Users\\\\Administrator\\\\Desktop\\\\py2\\\\pytest\\\\test1\\\\test2\\\\test4\"))"
   ]
  },
  {
   "cell_type": "code",
   "execution_count": 82,
   "metadata": {},
   "outputs": [],
   "source": [
    "# rmdir() // 폴더 디렉토리 삭제\n",
    "# removedirs // 폴더 디렉토리 삭제\n",
    "# 두명령어 모두 삭제할 폴더가 비어있어야 한다.\n",
    "\n",
    "# os.rmdir(\"C:\\\\Users\\\\Administrator\\\\Desktop\\\\py2\\\\pytest\\\\test1\\\\test2\")\n",
    "\n",
    "os.removedirs(\"C:\\\\Users\\\\Administrator\\\\Desktop\\\\py2\\\\pytest\\\\test1\")"
   ]
  }
 ],
 "metadata": {
  "interpreter": {
   "hash": "4e0b39fdc4f2df2992ef135d097972ec225e019845a073717c5b1bc8df292c8a"
  },
  "kernelspec": {
   "display_name": "Python 3.10.2 64-bit",
   "language": "python",
   "name": "python3"
  },
  "language_info": {
   "codemirror_mode": {
    "name": "ipython",
    "version": 3
   },
   "file_extension": ".py",
   "mimetype": "text/x-python",
   "name": "python",
   "nbconvert_exporter": "python",
   "pygments_lexer": "ipython3",
   "version": "3.10.2"
  },
  "orig_nbformat": 4
 },
 "nbformat": 4,
 "nbformat_minor": 2
}
