{
 "cells": [
  {
   "cell_type": "code",
   "execution_count": 2,
   "metadata": {},
   "outputs": [
    {
     "name": "stderr",
     "output_type": "stream",
     "text": [
      "C:\\Users\\Administrator\\AppData\\Local\\Temp\\ipykernel_7436\\4133142660.py:9: DeprecationWarning: executable_path has been deprecated, please pass in a Service object\n",
      "  browser = webdriver.Chrome(chorme_path)\n",
      "C:\\Users\\Administrator\\AppData\\Local\\Temp\\ipykernel_7436\\4133142660.py:12: DeprecationWarning: find_element_by_xpath is deprecated. Please use find_element(by=By.XPATH, value=xpath) instead\n",
      "  browser.find_element_by_xpath('//*[@id=\"NM_FAVORITE\"]/div[1]/a').click()\n",
      "C:\\Users\\Administrator\\AppData\\Local\\Temp\\ipykernel_7436\\4133142660.py:14: DeprecationWarning: find_element_by_xpath is deprecated. Please use find_element(by=By.XPATH, value=xpath) instead\n",
      "  browser.find_element_by_xpath('//*[@id=\"gnb\"]/div[2]/div[1]/dl[3]/dd[2]/a').click()\n",
      "C:\\Users\\Administrator\\AppData\\Local\\Temp\\ipykernel_7436\\4133142660.py:16: DeprecationWarning: find_element_by_xpath is deprecated. Please use find_element(by=By.XPATH, value=xpath) instead\n",
      "  browser.find_element_by_xpath('//*[@id=\"scrollbar\"]/div[1]/div/div/ul/li[2]/a').click()\n"
     ]
    },
    {
     "name": "stdout",
     "output_type": "stream",
     "text": [
      "불도저에 탄 소녀\n",
      "약속의 네버랜드\n",
      "나의 집은 어디인가\n",
      "천국에서 무덤까지\n"
     ]
    },
    {
     "name": "stderr",
     "output_type": "stream",
     "text": [
      "C:\\Users\\Administrator\\AppData\\Local\\Temp\\ipykernel_7436\\4133142660.py:19: DeprecationWarning: find_element_by_css_selector is deprecated. Please use find_element(by=By.CSS_SELECTOR, value=css_selector) instead\n",
      "  b = browser.find_element_by_css_selector(f'#content > div.article > div:nth-child(1) > div.lst_wrap > ul > li:nth-child({i}) > dl > dt > a').text\n"
     ]
    }
   ],
   "source": [
    "import selenium\n",
    "from selenium import webdriver \n",
    "from selenium.webdriver.common.keys import Keys\n",
    "import time\n",
    "\n",
    "chorme_path = 'C:\\\\Users\\\\Administrator\\\\Desktop\\\\py2\\\\chromedriver.exe'\n",
    "url = 'https://www.naver.com/'\n",
    "\n",
    "browser = webdriver.Chrome(chorme_path)\n",
    "browser.get(url)\n",
    "time.sleep(2)\n",
    "browser.find_element_by_xpath('//*[@id=\"NM_FAVORITE\"]/div[1]/a').click()\n",
    "time.sleep(2)\n",
    "browser.find_element_by_xpath('//*[@id=\"gnb\"]/div[2]/div[1]/dl[3]/dd[2]/a').click()\n",
    "time.sleep(2)\n",
    "browser.find_element_by_xpath('//*[@id=\"scrollbar\"]/div[1]/div/div/ul/li[2]/a').click()\n",
    "time.sleep(2)\n",
    "for i in range(1,5):\n",
    "    b = browser.find_element_by_css_selector(f'#content > div.article > div:nth-child(1) > div.lst_wrap > ul > li:nth-child({i}) > dl > dt > a').text\n",
    "    print(b)\n"
   ]
  }
 ],
 "metadata": {
  "interpreter": {
   "hash": "4e0b39fdc4f2df2992ef135d097972ec225e019845a073717c5b1bc8df292c8a"
  },
  "kernelspec": {
   "display_name": "Python 3.10.2 64-bit",
   "language": "python",
   "name": "python3"
  },
  "language_info": {
   "codemirror_mode": {
    "name": "ipython",
    "version": 3
   },
   "file_extension": ".py",
   "mimetype": "text/x-python",
   "name": "python",
   "nbconvert_exporter": "python",
   "pygments_lexer": "ipython3",
   "version": "3.10.2"
  },
  "orig_nbformat": 4
 },
 "nbformat": 4,
 "nbformat_minor": 2
}
