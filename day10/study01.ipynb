{
 "cells": [
  {
   "cell_type": "code",
   "execution_count": 1,
   "metadata": {},
   "outputs": [],
   "source": [
    "import sqlite3\n",
    "\n",
    "tcon = sqlite3.connect(\"C:\\\\Users\\\\Administrator\\\\Desktop\\\\py2\\\\day10\\\\sql_test01.db\")\n",
    "cursor = tcon.cursor()"
   ]
  },
  {
   "cell_type": "code",
   "execution_count": 3,
   "metadata": {},
   "outputs": [
    {
     "ename": "OperationalError",
     "evalue": "table std01 already exists",
     "output_type": "error",
     "traceback": [
      "\u001b[1;31m---------------------------------------------------------------------------\u001b[0m",
      "\u001b[1;31mOperationalError\u001b[0m                          Traceback (most recent call last)",
      "\u001b[1;32mc:\\Users\\Administrator\\Desktop\\py2\\day10\\study01.ipynb Cell 2'\u001b[0m in \u001b[0;36m<cell line: 1>\u001b[1;34m()\u001b[0m\n\u001b[1;32m----> <a href='vscode-notebook-cell:/c%3A/Users/Administrator/Desktop/py2/day10/study01.ipynb#ch0000001?line=0'>1</a>\u001b[0m cursor\u001b[39m.\u001b[39;49mexecute(\u001b[39m\"\u001b[39;49m\u001b[39mCREATE TABLE std01(name text, age int, ClassNum int) \u001b[39;49m\u001b[39m\"\u001b[39;49m)\n",
      "\u001b[1;31mOperationalError\u001b[0m: table std01 already exists"
     ]
    }
   ],
   "source": [
    "cursor.execute(\"CREATE TABLE std01(name text, age int, ClassNum int) \")\n"
   ]
  },
  {
   "cell_type": "code",
   "execution_count": 5,
   "metadata": {},
   "outputs": [
    {
     "data": {
      "text/plain": [
       "<sqlite3.Cursor at 0x297e9822240>"
      ]
     },
     "execution_count": 5,
     "metadata": {},
     "output_type": "execute_result"
    }
   ],
   "source": [
    "cursor.execute(\"INSERT INTO std01 VALUES('홍길동',30,20131120)\")\n",
    "cursor.execute(\"INSERT INTO std01 VALUES('홍만석',29,20131197)\")\n",
    "cursor.execute(\"INSERT INTO std01 VALUES('홍석순',30,20131186)\")\n",
    "cursor.execute(\"COMMIT\")"
   ]
  },
  {
   "cell_type": "code",
   "execution_count": 31,
   "metadata": {},
   "outputs": [
    {
     "data": {
      "text/plain": [
       "<sqlite3.Cursor at 0x297e9822240>"
      ]
     },
     "execution_count": 31,
     "metadata": {},
     "output_type": "execute_result"
    }
   ],
   "source": [
    "cursor.execute(\"SELECT * FROM std01\")"
   ]
  },
  {
   "cell_type": "code",
   "execution_count": 85,
   "metadata": {},
   "outputs": [
    {
     "data": {
      "text/plain": [
       "<sqlite3.Cursor at 0x297eb59a140>"
      ]
     },
     "execution_count": 85,
     "metadata": {},
     "output_type": "execute_result"
    }
   ],
   "source": [
    "cursor.execute(\"UPDATE std01 SET age=35 WHERE name='홍길동'\")\n",
    "cursor.execute(\"COMMIT\")"
   ]
  },
  {
   "cell_type": "code",
   "execution_count": 34,
   "metadata": {},
   "outputs": [],
   "source": [
    "tcon.close()"
   ]
  },
  {
   "cell_type": "code",
   "execution_count": 45,
   "metadata": {},
   "outputs": [
    {
     "name": "stdout",
     "output_type": "stream",
     "text": [
      "('홍길동', 30, 20131120)\n",
      "('홍만석', 32, 20131197)\n",
      "('홍석순', 30, 20131186)\n"
     ]
    }
   ],
   "source": [
    "tcon = sqlite3.connect(\"C:\\\\Users\\\\Administrator\\\\Desktop\\\\py2\\\\day10\\\\sql_test01.db\")\n",
    "cursor = tcon.cursor()\n",
    "cursor.execute(\"SELECT * FROM std01\")\n",
    "rows = cursor.fetchall()\n",
    "\n",
    "for i in rows :\n",
    "    print(i)"
   ]
  },
  {
   "cell_type": "code",
   "execution_count": 82,
   "metadata": {},
   "outputs": [
    {
     "name": "stdout",
     "output_type": "stream",
     "text": [
      "('홍만석', 32)\n"
     ]
    }
   ],
   "source": [
    "cursor.execute(\"SELECT name,age FROM std01 WHERE age>=31 \")\n",
    "rows = cursor.fetchall()\n",
    "\n",
    "for i in rows :\n",
    "    print(i)"
   ]
  },
  {
   "cell_type": "code",
   "execution_count": 84,
   "metadata": {},
   "outputs": [
    {
     "name": "stdout",
     "output_type": "stream",
     "text": [
      "('홍석순', 30)\n"
     ]
    }
   ],
   "source": [
    "cursor.execute(\"SELECT name,age FROM std01 WHERE name LIKE '_석_'\")\n",
    "rows = cursor.fetchall()\n",
    "\n",
    "for i in rows :\n",
    "    print(i)"
   ]
  },
  {
   "cell_type": "code",
   "execution_count": 87,
   "metadata": {},
   "outputs": [
    {
     "data": {
      "text/html": [
       "<div>\n",
       "<style scoped>\n",
       "    .dataframe tbody tr th:only-of-type {\n",
       "        vertical-align: middle;\n",
       "    }\n",
       "\n",
       "    .dataframe tbody tr th {\n",
       "        vertical-align: top;\n",
       "    }\n",
       "\n",
       "    .dataframe thead th {\n",
       "        text-align: right;\n",
       "    }\n",
       "</style>\n",
       "<table border=\"1\" class=\"dataframe\">\n",
       "  <thead>\n",
       "    <tr style=\"text-align: right;\">\n",
       "      <th></th>\n",
       "      <th>name</th>\n",
       "      <th>age</th>\n",
       "      <th>ClassNum</th>\n",
       "    </tr>\n",
       "  </thead>\n",
       "  <tbody>\n",
       "    <tr>\n",
       "      <th>0</th>\n",
       "      <td>홍길동</td>\n",
       "      <td>35</td>\n",
       "      <td>20131120</td>\n",
       "    </tr>\n",
       "    <tr>\n",
       "      <th>1</th>\n",
       "      <td>홍만석</td>\n",
       "      <td>32</td>\n",
       "      <td>20131197</td>\n",
       "    </tr>\n",
       "    <tr>\n",
       "      <th>2</th>\n",
       "      <td>홍석순</td>\n",
       "      <td>30</td>\n",
       "      <td>20131186</td>\n",
       "    </tr>\n",
       "  </tbody>\n",
       "</table>\n",
       "</div>"
      ],
      "text/plain": [
       "  name  age  ClassNum\n",
       "0  홍길동   35  20131120\n",
       "1  홍만석   32  20131197\n",
       "2  홍석순   30  20131186"
      ]
     },
     "execution_count": 87,
     "metadata": {},
     "output_type": "execute_result"
    }
   ],
   "source": [
    "import pandas as pd\n",
    "\n",
    "cursor.execute(\"SELECT * FROM std01 WHERE name LIKE '홍__'\")\n",
    "rows = cursor.fetchall()\n",
    "cols = [column[0] for column in cursor.description]\n",
    "df = pd.DataFrame.from_records(data= rows, columns= cols)\n",
    "df"
   ]
  }
 ],
 "metadata": {
  "interpreter": {
   "hash": "4e0b39fdc4f2df2992ef135d097972ec225e019845a073717c5b1bc8df292c8a"
  },
  "kernelspec": {
   "display_name": "Python 3.10.2 64-bit",
   "language": "python",
   "name": "python3"
  },
  "language_info": {
   "codemirror_mode": {
    "name": "ipython",
    "version": 3
   },
   "file_extension": ".py",
   "mimetype": "text/x-python",
   "name": "python",
   "nbconvert_exporter": "python",
   "pygments_lexer": "ipython3",
   "version": "3.10.2"
  },
  "orig_nbformat": 4
 },
 "nbformat": 4,
 "nbformat_minor": 2
}
