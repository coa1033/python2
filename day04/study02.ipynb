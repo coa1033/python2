{
 "cells": [
  {
   "cell_type": "code",
   "execution_count": 8,
   "metadata": {},
   "outputs": [],
   "source": [
    "# openpyxl 모듈 가져옴\n",
    "from openpyxl import *\n",
    "\n",
    "# 엑셀 추가\n",
    "w1 = Workbook()\n",
    "ws = w1.active #엑셀시트 활성화\n",
    "\n",
    "# 엑셀 저장\n",
    "w1.save(\"test.xlsx\")\n",
    "\n",
    "# 엑셀 로드\n",
    "w2 = load_workbook(\"test.xlsx\")\n",
    "ws2 = w2.active\n",
    "\n",
    "# 셀을 선택해서 편집하는 방법\n",
    "ws2[\"D4\"] = \"hello\"\n",
    "w2.save(\"test.xlsx\")\n",
    "\n",
    "# 원하는 만큼 엑셀 편집\n",
    "num = 1\n",
    "for row in ws2[\"A1\":\"C3\"] :\n",
    "    for cell in row :\n",
    "        cell.value = num\n",
    "        num +=1\n",
    "w2.save(\"test.xlsx\")\n"
   ]
  },
  {
   "cell_type": "code",
   "execution_count": 24,
   "metadata": {},
   "outputs": [],
   "source": [
    "num1 = 2\n",
    "num2 = 1\n",
    "for row in ws2[\"E1\":\"E9\"] :\n",
    "    for cell in row :\n",
    "        a = str(num1)+\"*\"+str(num2)+\"=\"\n",
    "        cell.value = a\n",
    "        num2+=1\n",
    "num2 = 1       \n",
    "for row in ws2[\"F1\":\"F9\"] :\n",
    "    for cell in row :\n",
    "        cell.value = num1*num2\n",
    "        num2+=1\n",
    "w2.save(\"test.xlsx\")"
   ]
  },
  {
   "cell_type": "code",
   "execution_count": 25,
   "metadata": {},
   "outputs": [
    {
     "name": "stdout",
     "output_type": "stream",
     "text": [
      "5\n",
      "6\n",
      "8\n",
      "9\n"
     ]
    }
   ],
   "source": [
    "for row in ws2.iter_rows(min_row=2,min_col=2,max_col=3,max_row=3):\n",
    "    for cell in row :\n",
    "        print(cell.value)"
   ]
  },
  {
   "cell_type": "code",
   "execution_count": 26,
   "metadata": {},
   "outputs": [],
   "source": [
    "# 신규 엑셀 시트 생성\n",
    "wsnew = w2.create_sheet()\n",
    "ws2.tittle = \"1번 시트\"\n",
    "w2.save(\"test.xlsx\")\n"
   ]
  }
 ],
 "metadata": {
  "interpreter": {
   "hash": "4e0b39fdc4f2df2992ef135d097972ec225e019845a073717c5b1bc8df292c8a"
  },
  "kernelspec": {
   "display_name": "Python 3.10.2 64-bit",
   "language": "python",
   "name": "python3"
  },
  "language_info": {
   "codemirror_mode": {
    "name": "ipython",
    "version": 3
   },
   "file_extension": ".py",
   "mimetype": "text/x-python",
   "name": "python",
   "nbconvert_exporter": "python",
   "pygments_lexer": "ipython3",
   "version": "3.10.2"
  },
  "orig_nbformat": 4
 },
 "nbformat": 4,
 "nbformat_minor": 2
}
