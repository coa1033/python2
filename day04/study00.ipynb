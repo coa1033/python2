{
 "cells": [
  {
   "cell_type": "code",
   "execution_count": 31,
   "metadata": {},
   "outputs": [],
   "source": [
    "# 텍스트 파일 5개를 만들고 텍스트2는 hello world , 텍스트3은 안녕하세요. 저는 홍길동 입니다. 잘 부탁 드립니다. 출력하기\n",
    "i = 1\n",
    "while i<= 3 :\n",
    "    file2 = open(\"text{}.txt\".format(i),\"wt\", encoding =\"utf-8\")\n",
    "    if i == 2:\n",
    "        file2.write(\"Hello World\\n\")\n",
    "    if i ==3 :\n",
    "        file2.write(\"안녕하세요!\\n저는 홍길동 입니다.\\n잘 부탁드립니다. \")\n",
    "    i+=1\n",
    "\n",
    "   \n"
   ]
  },
  {
   "cell_type": "code",
   "execution_count": 33,
   "metadata": {},
   "outputs": [],
   "source": [
    "# 리스트를 만들어서 리스트에 있는 내용을 text4.txt에 저장을 해주세요.\n",
    "list1 = [\"사과\",\"배\",\"바나나\",\"딸기\"]\n",
    "\n",
    "f1 = open(\"text1.txt\",\"wt\", encoding=\"utf-8\")\n",
    "\n",
    "\n",
    "\n",
    "for i in list1 :\n",
    "    f1.write(i+\"\\n\")\n",
    "f1.close()\n"
   ]
  }
 ],
 "metadata": {
  "interpreter": {
   "hash": "4e0b39fdc4f2df2992ef135d097972ec225e019845a073717c5b1bc8df292c8a"
  },
  "kernelspec": {
   "display_name": "Python 3.10.2 64-bit",
   "language": "python",
   "name": "python3"
  },
  "language_info": {
   "codemirror_mode": {
    "name": "ipython",
    "version": 3
   },
   "file_extension": ".py",
   "mimetype": "text/x-python",
   "name": "python",
   "nbconvert_exporter": "python",
   "pygments_lexer": "ipython3",
   "version": "3.10.2"
  },
  "orig_nbformat": 4
 },
 "nbformat": 4,
 "nbformat_minor": 2
}
