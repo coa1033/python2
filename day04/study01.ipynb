{
 "cells": [
  {
   "cell_type": "code",
   "execution_count": 3,
   "metadata": {},
   "outputs": [
    {
     "name": "stdout",
     "output_type": "stream",
     "text": [
      "버림하기 전 원래값 1.6666666666666667\n",
      "버림함수 사용 후 값 1\n"
     ]
    }
   ],
   "source": [
    "# trunc() 버림함수\n",
    "import math\n",
    "\n",
    "n1 = 3\n",
    "n2 = 5\n",
    "print(\"버림하기 전 원래값 {}\". format(n2/n1))\n",
    "print(\"버림함수 사용 후 값 {}\".format(math.trunc(n2/n1)))"
   ]
  },
  {
   "cell_type": "code",
   "execution_count": 7,
   "metadata": {},
   "outputs": [
    {
     "name": "stdout",
     "output_type": "stream",
     "text": [
      "총 2 페이지까지 필요합니다\n"
     ]
    }
   ],
   "source": [
    "# ceil() 주어진 숫자보다 큰 가장 가까운 정수를 찾아주는 함수\n",
    "cnt = int(input(\"총 몇 건의 데이터를 입력을 받을까요?\"))\n",
    "# 한 페이지에는 10개의 데이터만 보여질 수 있다.\n",
    "page = math.ceil(cnt/10)\n",
    "print(\"총 %s 페이지까지 필요합니다\" %page)"
   ]
  },
  {
   "cell_type": "code",
   "execution_count": 10,
   "metadata": {},
   "outputs": [
    {
     "name": "stdout",
     "output_type": "stream",
     "text": [
      "4.9보다 작으면서 가장 가까운 정수는 3 입니다\n",
      "5.6보다 작으면서 가장 가까운 정수를 5 입니다\n"
     ]
    }
   ],
   "source": [
    "# floor() 주어진 숫자보다 작고 가장 가까운 정수를 찾아주는 함수\n",
    "f1 = 4.9\n",
    "f2 = 5.6\n",
    "\n",
    "print(f\"{f1}보다 작으면서 가장 가까운 정수는 {math.floor(n1)} 입니다\")\n",
    "print(f\"{f2}보다 작으면서 가장 가까운 정수는 {math.floor(n2)} 입니다\")"
   ]
  }
 ],
 "metadata": {
  "interpreter": {
   "hash": "4e0b39fdc4f2df2992ef135d097972ec225e019845a073717c5b1bc8df292c8a"
  },
  "kernelspec": {
   "display_name": "Python 3.10.2 64-bit",
   "language": "python",
   "name": "python3"
  },
  "language_info": {
   "codemirror_mode": {
    "name": "ipython",
    "version": 3
   },
   "file_extension": ".py",
   "mimetype": "text/x-python",
   "name": "python",
   "nbconvert_exporter": "python",
   "pygments_lexer": "ipython3",
   "version": "3.10.2"
  },
  "orig_nbformat": 4
 },
 "nbformat": 4,
 "nbformat_minor": 2
}
